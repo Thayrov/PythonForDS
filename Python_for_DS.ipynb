{
  "nbformat": 4,
  "nbformat_minor": 0,
  "metadata": {
    "colab": {
      "provenance": [],
      "authorship_tag": "ABX9TyM/sPAVfUI9+XFgpDoLcXxP",
      "include_colab_link": true
    },
    "kernelspec": {
      "name": "python3",
      "display_name": "Python 3"
    },
    "language_info": {
      "name": "python"
    }
  },
  "cells": [
    {
      "cell_type": "markdown",
      "metadata": {
        "id": "view-in-github",
        "colab_type": "text"
      },
      "source": [
        "<a href=\"https://colab.research.google.com/github/Thayrov/PythonForDS/blob/main/Python_for_DS.ipynb\" target=\"_parent\"><img src=\"https://colab.research.google.com/assets/colab-badge.svg\" alt=\"Open In Colab\"/></a>"
      ]
    },
    {
      "cell_type": "markdown",
      "source": [
        "#Variables"
      ],
      "metadata": {
        "id": "Ls7cCkklB4fi"
      }
    },
    {
      "cell_type": "code",
      "execution_count": 2,
      "metadata": {
        "colab": {
          "base_uri": "https://localhost:8080/"
        },
        "id": "upf_swvK5h7D",
        "outputId": "a058fe4e-9a40-4bbb-9b2e-889ff52a19bc"
      },
      "outputs": [
        {
          "output_type": "stream",
          "name": "stdout",
          "text": [
            "Hola Thayrov, tienes 33 años\n"
          ]
        }
      ],
      "source": [
        "nombre = 'Thayrov'\n",
        "edad = 33\n",
        "print(f'Hola {nombre}, tienes {edad} años')"
      ]
    },
    {
      "cell_type": "markdown",
      "source": [
        "#Función"
      ],
      "metadata": {
        "id": "qC9u4208B-aO"
      }
    },
    {
      "cell_type": "code",
      "source": [
        "def saludar():\n",
        "  nombre = input('Ingrese su nombre: ')\n",
        "  print(f'Hola y bienvenido {nombre}')"
      ],
      "metadata": {
        "id": "Yh9a2hZV95bd"
      },
      "execution_count": 3,
      "outputs": []
    },
    {
      "cell_type": "code",
      "source": [
        "saludar()"
      ],
      "metadata": {
        "colab": {
          "base_uri": "https://localhost:8080/"
        },
        "id": "d0cJ9VKy-JV-",
        "outputId": "2bc076a5-f73c-4d28-9f00-aa34d9d78849"
      },
      "execution_count": 4,
      "outputs": [
        {
          "output_type": "stream",
          "name": "stdout",
          "text": [
            "Ingrese su nombre: Thayrov\n",
            "Hola y bienvenido Thayrov\n"
          ]
        }
      ]
    },
    {
      "cell_type": "markdown",
      "source": [
        "#Función con parametros"
      ],
      "metadata": {
        "id": "uAAqCGwfCDyM"
      }
    },
    {
      "cell_type": "code",
      "source": [
        "nombre = 'Manuel'"
      ],
      "metadata": {
        "id": "Pxno8-KFCyWt"
      },
      "execution_count": 7,
      "outputs": []
    },
    {
      "cell_type": "code",
      "source": [
        "def saludar_con_params(nombre):\n",
        "  print(f'Hola y bienvenido {nombre}')"
      ],
      "metadata": {
        "id": "4By_DuPpBv1a"
      },
      "execution_count": 9,
      "outputs": []
    },
    {
      "cell_type": "code",
      "source": [
        "saludar_con_params(nombre)"
      ],
      "metadata": {
        "colab": {
          "base_uri": "https://localhost:8080/"
        },
        "id": "q_JmkKuOCVb7",
        "outputId": "50e4c1dd-eb72-4b9c-bb04-dba9d32cdba1"
      },
      "execution_count": 11,
      "outputs": [
        {
          "output_type": "stream",
          "name": "stdout",
          "text": [
            "Hola y bienvenido Manuel\n"
          ]
        }
      ]
    },
    {
      "cell_type": "markdown",
      "source": [
        "#Condicionales"
      ],
      "metadata": {
        "id": "Nmm9cfbODQ2j"
      }
    },
    {
      "cell_type": "code",
      "source": [
        "edad = 20\n",
        "\n",
        "def verifica_si_puede_manejar(edad):\n",
        "  if edad >= 18:\n",
        "    print('Si puede manejar')\n",
        "  else:\n",
        "    print('No puede manejar')\n",
        "\n",
        "verifica_si_puede_manejar(edad)"
      ],
      "metadata": {
        "colab": {
          "base_uri": "https://localhost:8080/"
        },
        "id": "eZquyJZ6CWTO",
        "outputId": "dcf41295-bc4d-4cd0-eecf-243c9a07aec8"
      },
      "execution_count": 14,
      "outputs": [
        {
          "output_type": "stream",
          "name": "stdout",
          "text": [
            "Si puede manejar\n"
          ]
        }
      ]
    },
    {
      "cell_type": "markdown",
      "source": [
        "#Tipos de datos"
      ],
      "metadata": {
        "id": "4yPoFtz_EX1e"
      }
    },
    {
      "cell_type": "code",
      "source": [
        "def verifica_si_puede_manejar_sin_params():\n",
        "  edad = input('Ingrese su edad: ')\n",
        "  edad = int(edad)\n",
        "  if edad >= 18:\n",
        "    print('Si puede manejar')\n",
        "  else:\n",
        "    print('No puede manejar')\n",
        "\n",
        "verifica_si_puede_manejar_sin_params()"
      ],
      "metadata": {
        "colab": {
          "base_uri": "https://localhost:8080/"
        },
        "id": "wO92fDVKDuar",
        "outputId": "4c208920-51ff-4444-f61d-9cfa6af1458a"
      },
      "execution_count": 17,
      "outputs": [
        {
          "output_type": "stream",
          "name": "stdout",
          "text": [
            "Ingrese su edad: 15\n",
            "No puede manejar\n"
          ]
        }
      ]
    },
    {
      "cell_type": "markdown",
      "source": [
        "#Listas"
      ],
      "metadata": {
        "id": "vogZWp2pFDYj"
      }
    },
    {
      "cell_type": "code",
      "source": [
        "edades = [18, 15, 12, 45, 50]\n",
        "type(edades)"
      ],
      "metadata": {
        "colab": {
          "base_uri": "https://localhost:8080/"
        },
        "id": "6jbn4zL4EVIH",
        "outputId": "771f9364-c725-46d3-8a34-c4ede2406ab8"
      },
      "execution_count": 22,
      "outputs": [
        {
          "output_type": "execute_result",
          "data": {
            "text/plain": [
              "list"
            ]
          },
          "metadata": {},
          "execution_count": 22
        }
      ]
    },
    {
      "cell_type": "code",
      "source": [
        "edades[0]"
      ],
      "metadata": {
        "colab": {
          "base_uri": "https://localhost:8080/"
        },
        "id": "RBx_HhEFFV1F",
        "outputId": "5b9bf862-9f5b-4235-f9da-70b36ec9ca38"
      },
      "execution_count": 19,
      "outputs": [
        {
          "output_type": "execute_result",
          "data": {
            "text/plain": [
              "18"
            ]
          },
          "metadata": {},
          "execution_count": 19
        }
      ]
    },
    {
      "cell_type": "code",
      "source": [
        "edades[0:3]"
      ],
      "metadata": {
        "colab": {
          "base_uri": "https://localhost:8080/"
        },
        "id": "PvTgi0Y7Fa5f",
        "outputId": "0d25d0d7-b45b-46b9-f52c-84645f03c091"
      },
      "execution_count": 23,
      "outputs": [
        {
          "output_type": "execute_result",
          "data": {
            "text/plain": [
              "[18, 15, 12]"
            ]
          },
          "metadata": {},
          "execution_count": 23
        }
      ]
    },
    {
      "cell_type": "code",
      "source": [
        "edades[:]"
      ],
      "metadata": {
        "colab": {
          "base_uri": "https://localhost:8080/"
        },
        "id": "WJqQUCwqF1M4",
        "outputId": "e0d0ac44-7e8c-4db3-89b2-9260dc9c35d0"
      },
      "execution_count": 24,
      "outputs": [
        {
          "output_type": "execute_result",
          "data": {
            "text/plain": [
              "[18, 15, 12, 45, 50]"
            ]
          },
          "metadata": {},
          "execution_count": 24
        }
      ]
    },
    {
      "cell_type": "code",
      "source": [
        "edades[1:]"
      ],
      "metadata": {
        "colab": {
          "base_uri": "https://localhost:8080/"
        },
        "id": "VmjwmskqF_Ny",
        "outputId": "3cf3ff48-34d4-48ff-ef37-fad60be47705"
      },
      "execution_count": 25,
      "outputs": [
        {
          "output_type": "execute_result",
          "data": {
            "text/plain": [
              "[15, 12, 45, 50]"
            ]
          },
          "metadata": {},
          "execution_count": 25
        }
      ]
    },
    {
      "cell_type": "code",
      "source": [
        "edades[-1]"
      ],
      "metadata": {
        "colab": {
          "base_uri": "https://localhost:8080/"
        },
        "id": "fVuym_LFGBiF",
        "outputId": "9616ab1c-ae28-4618-c510-9f5aed978135"
      },
      "execution_count": 26,
      "outputs": [
        {
          "output_type": "execute_result",
          "data": {
            "text/plain": [
              "50"
            ]
          },
          "metadata": {},
          "execution_count": 26
        }
      ]
    },
    {
      "cell_type": "code",
      "source": [
        "edades[:4]"
      ],
      "metadata": {
        "colab": {
          "base_uri": "https://localhost:8080/"
        },
        "id": "1CyaqVGtGG6B",
        "outputId": "80bbca12-6ae5-44ff-b259-28e682fda421"
      },
      "execution_count": 27,
      "outputs": [
        {
          "output_type": "execute_result",
          "data": {
            "text/plain": [
              "[18, 15, 12, 45]"
            ]
          },
          "metadata": {},
          "execution_count": 27
        }
      ]
    },
    {
      "cell_type": "markdown",
      "source": [
        "#Loops"
      ],
      "metadata": {
        "id": "kBMM6RBdHPji"
      }
    },
    {
      "cell_type": "code",
      "source": [
        "edades = [18, 15, 12, 45, 50]\n",
        "\n",
        "def verifica_si_puede_manejar_con_loop(edades):\n",
        "  for edad in edades:\n",
        "    if edad >= 18:\n",
        "      print('Si puede manejar')\n",
        "    else:\n",
        "      print('No puede manejar')\n",
        "\n",
        "verifica_si_puede_manejar_con_loop(edades)"
      ],
      "metadata": {
        "colab": {
          "base_uri": "https://localhost:8080/"
        },
        "id": "LSf1w7NlGNC3",
        "outputId": "03c59c67-db47-4b77-f0ad-adb87359c681"
      },
      "execution_count": 34,
      "outputs": [
        {
          "output_type": "stream",
          "name": "stdout",
          "text": [
            "Si puede manejar\n",
            "No puede manejar\n",
            "No puede manejar\n",
            "Si puede manejar\n",
            "Si puede manejar\n"
          ]
        }
      ]
    },
    {
      "cell_type": "markdown",
      "source": [
        "#Booleanos"
      ],
      "metadata": {
        "id": "x-qrnDoUKAqh"
      }
    },
    {
      "cell_type": "code",
      "source": [
        "edad = 18\n",
        "edad >= 18"
      ],
      "metadata": {
        "colab": {
          "base_uri": "https://localhost:8080/"
        },
        "id": "qBCFlpIRHbEi",
        "outputId": "60ded0c1-2929-4e10-8e66-fb2048089539"
      },
      "execution_count": 37,
      "outputs": [
        {
          "output_type": "execute_result",
          "data": {
            "text/plain": [
              "True"
            ]
          },
          "metadata": {},
          "execution_count": 37
        }
      ]
    },
    {
      "cell_type": "code",
      "source": [
        "edad < 18"
      ],
      "metadata": {
        "colab": {
          "base_uri": "https://localhost:8080/"
        },
        "id": "VBN6EtlLKQ0C",
        "outputId": "2202ea9e-88da-4d42-ef4d-5195a3bbc345"
      },
      "execution_count": 38,
      "outputs": [
        {
          "output_type": "execute_result",
          "data": {
            "text/plain": [
              "False"
            ]
          },
          "metadata": {},
          "execution_count": 38
        }
      ]
    },
    {
      "cell_type": "code",
      "source": [
        "verificaciones = []\n",
        "edades = [13, 15, 20]\n",
        "\n",
        "def verifica_si_puede_manejar_con_bool(verificaciones, edades):\n",
        "  for edad in edades:\n",
        "    if edad >= 18:\n",
        "      verificaciones.append(True)\n",
        "    else:\n",
        "      verificaciones.append(False)\n",
        "  for verificacion in verificaciones:\n",
        "    if verificacion == True:\n",
        "      print('Si puede manejar')\n",
        "    else:\n",
        "      print('No puede manejar')\n",
        "\n",
        "verifica_si_puede_manejar_con_bool(verificaciones, edades)\n",
        "\n",
        "verificaciones"
      ],
      "metadata": {
        "colab": {
          "base_uri": "https://localhost:8080/"
        },
        "id": "wXUPavT4KpZ1",
        "outputId": "4fbdfa0a-d693-4ea1-b9e5-cd69292d89f1"
      },
      "execution_count": 42,
      "outputs": [
        {
          "output_type": "stream",
          "name": "stdout",
          "text": [
            "No puede manejar\n",
            "No puede manejar\n",
            "Si puede manejar\n"
          ]
        },
        {
          "output_type": "execute_result",
          "data": {
            "text/plain": [
              "[False, False, True]"
            ]
          },
          "metadata": {},
          "execution_count": 42
        }
      ]
    },
    {
      "cell_type": "markdown",
      "source": [
        "#Tipos diferentes en la misma lista"
      ],
      "metadata": {
        "id": "He8MNm_xL_wc"
      }
    },
    {
      "cell_type": "code",
      "source": [
        "persona = ['Mariana', 25, True, 'México']"
      ],
      "metadata": {
        "id": "qf_OOKkRLM8K"
      },
      "execution_count": 46,
      "outputs": []
    },
    {
      "cell_type": "code",
      "source": [
        "for e in persona:\n",
        "  print(f'El elemento: {e}; es del tipo: {type(e)}')"
      ],
      "metadata": {
        "colab": {
          "base_uri": "https://localhost:8080/"
        },
        "id": "BZgl9h_1ML05",
        "outputId": "d7722e2c-5ccc-45d1-c557-41df3e11353f"
      },
      "execution_count": 47,
      "outputs": [
        {
          "output_type": "stream",
          "name": "stdout",
          "text": [
            "El elemento: Mariana; es del tipo: <class 'str'>\n",
            "El elemento: 25; es del tipo: <class 'int'>\n",
            "El elemento: True; es del tipo: <class 'bool'>\n",
            "El elemento: México; es del tipo: <class 'str'>\n"
          ]
        }
      ]
    },
    {
      "cell_type": "markdown",
      "source": [
        "#Float"
      ],
      "metadata": {
        "id": "LU8VIgBYNF6-"
      }
    },
    {
      "cell_type": "code",
      "source": [
        "pi = 3.14\n",
        "type(pi)"
      ],
      "metadata": {
        "colab": {
          "base_uri": "https://localhost:8080/"
        },
        "id": "FbcrpNaqNG6n",
        "outputId": "005b6902-f6c4-4b57-bb6f-751a900429e6"
      },
      "execution_count": 48,
      "outputs": [
        {
          "output_type": "execute_result",
          "data": {
            "text/plain": [
              "float"
            ]
          },
          "metadata": {},
          "execution_count": 48
        }
      ]
    },
    {
      "cell_type": "markdown",
      "source": [
        "#Importando una librería/biblioteca"
      ],
      "metadata": {
        "id": "m77Ozo7_NbF1"
      }
    },
    {
      "cell_type": "code",
      "source": [
        "from random import randrange, seed"
      ],
      "metadata": {
        "id": "G54kERofNHmq"
      },
      "execution_count": 56,
      "outputs": []
    },
    {
      "cell_type": "code",
      "source": [
        "randrange(0,11)"
      ],
      "metadata": {
        "colab": {
          "base_uri": "https://localhost:8080/"
        },
        "id": "vi9Z3kQCNucC",
        "outputId": "c2d393e2-060c-48a7-b9b0-931cba4b9e51"
      },
      "execution_count": 51,
      "outputs": [
        {
          "output_type": "execute_result",
          "data": {
            "text/plain": [
              "4"
            ]
          },
          "metadata": {},
          "execution_count": 51
        }
      ]
    },
    {
      "cell_type": "code",
      "source": [
        "type(randrange)"
      ],
      "metadata": {
        "colab": {
          "base_uri": "https://localhost:8080/"
        },
        "id": "yLaL2luJRLt3",
        "outputId": "0be33400-b363-4591-840f-55de7ba977d5"
      },
      "execution_count": 63,
      "outputs": [
        {
          "output_type": "execute_result",
          "data": {
            "text/plain": [
              "method"
            ]
          },
          "metadata": {},
          "execution_count": 63
        }
      ]
    },
    {
      "cell_type": "markdown",
      "source": [
        "#Lista con números aleatorios"
      ],
      "metadata": {
        "id": "JsitX6cnPty-"
      }
    },
    {
      "cell_type": "code",
      "source": [
        "notas_mate = []"
      ],
      "metadata": {
        "id": "KXQk-ZWaNys7"
      },
      "execution_count": 52,
      "outputs": []
    },
    {
      "cell_type": "code",
      "source": [
        "notas_mate = []\n",
        "seed(7) # el seed fija el resultado del resultado seudo aleatorio\n",
        "for notas in range(6):\n",
        "  notas_mate.append(randrange(0,11))\n",
        "\n",
        "notas_mate"
      ],
      "metadata": {
        "colab": {
          "base_uri": "https://localhost:8080/"
        },
        "id": "wr-nlM_fPzZQ",
        "outputId": "8a00a7dd-f8b5-4c40-d3cb-70c0392eb5a9"
      },
      "execution_count": 60,
      "outputs": [
        {
          "output_type": "execute_result",
          "data": {
            "text/plain": [
              "[5, 2, 6, 10, 0, 1]"
            ]
          },
          "metadata": {},
          "execution_count": 60
        }
      ]
    },
    {
      "cell_type": "code",
      "source": [
        "len(notas_mate)"
      ],
      "metadata": {
        "colab": {
          "base_uri": "https://localhost:8080/"
        },
        "id": "kerZD0LsQFZO",
        "outputId": "e3bd73b5-0c3f-4dc2-ac27-4842572e3bb2"
      },
      "execution_count": 62,
      "outputs": [
        {
          "output_type": "execute_result",
          "data": {
            "text/plain": [
              "6"
            ]
          },
          "metadata": {},
          "execution_count": 62
        }
      ]
    },
    {
      "cell_type": "markdown",
      "source": [
        "#Gráficos"
      ],
      "metadata": {
        "id": "aptqiuSRRgS9"
      }
    },
    {
      "cell_type": "code",
      "source": [
        "import matplotlib.pyplot as plt"
      ],
      "metadata": {
        "id": "yrzqafVORhmF"
      },
      "execution_count": 64,
      "outputs": []
    },
    {
      "cell_type": "code",
      "source": [
        "list(range(1,7))"
      ],
      "metadata": {
        "colab": {
          "base_uri": "https://localhost:8080/"
        },
        "id": "zLm3Xl1wR3OQ",
        "outputId": "2ca4cf41-3556-4fde-e35f-e45950498021"
      },
      "execution_count": 69,
      "outputs": [
        {
          "output_type": "execute_result",
          "data": {
            "text/plain": [
              "[1, 2, 3, 4, 5, 6]"
            ]
          },
          "metadata": {},
          "execution_count": 69
        }
      ]
    },
    {
      "cell_type": "code",
      "source": [
        "x = list(range(1,7))\n",
        "y = notas_mate\n",
        "\n",
        "plt.plot(x,y, marker = 'o')\n",
        "plt.title('Notas de mate')\n",
        "plt.xlabel('Examenes')\n",
        "plt.ylabel('Notas')\n",
        "plt.show()\n"
      ],
      "metadata": {
        "colab": {
          "base_uri": "https://localhost:8080/",
          "height": 472
        },
        "id": "_1rq2f76R_Hc",
        "outputId": "f290c86d-2994-411d-e538-6d81c1bd3fbd"
      },
      "execution_count": 74,
      "outputs": [
        {
          "output_type": "display_data",
          "data": {
            "text/plain": [
              "<Figure size 640x480 with 1 Axes>"
            ],
            "image/png": "[encoded data removed]"
          },
          "metadata": {}
        }
      ]
    },
    {
      "cell_type": "code",
      "source": [],
      "metadata": {
        "id": "QvbLfmjOSKK3"
      },
      "execution_count": null,
      "outputs": []
    }
  ]
}